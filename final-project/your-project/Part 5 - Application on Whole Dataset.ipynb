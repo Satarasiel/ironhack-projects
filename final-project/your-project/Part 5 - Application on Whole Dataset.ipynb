{
 "cells": [
  {
   "cell_type": "markdown",
   "metadata": {},
   "source": [
    "# Application of chosen model on whole dataset"
   ]
  },
  {
   "cell_type": "markdown",
   "metadata": {},
   "source": [
    "In short, this didn't work. The dataset seems to be too big for me to be able to process it. Even when I tried breaking the code into small batches to make the needed matrix (part that I was never able to bypass to then get to the training part of the model) somewhat easier to process for the computer, it still failed."
   ]
  },
  {
   "cell_type": "markdown",
   "metadata": {},
   "source": [
    "## Imports and setup"
   ]
  },
  {
   "cell_type": "code",
   "execution_count": 1,
   "metadata": {},
   "outputs": [],
   "source": [
    "# Importing libraries\n",
    "import pandas as pd\n",
    "import numpy as np\n",
    "from collections import Counter\n",
    "import pickle\n",
    "\n",
    "import nltk\n",
    "from nltk.probability import FreqDist\n",
    "from nltk.classify.scikitlearn import SklearnClassifier\n",
    "from nltk.metrics import ConfusionMatrix\n",
    "\n",
    "from sklearn.linear_model import LogisticRegression\n",
    "\n",
    "# My own functions\n",
    "from NLP_Functions import find_features, make_matrix, clean_up, tokenize, stem_and_lemmatize, remove_stopwords"
   ]
  },
  {
   "cell_type": "code",
   "execution_count": 2,
   "metadata": {},
   "outputs": [],
   "source": [
    "# Importing the dataset\n",
    "#df = pd.read_csv('Datasets/games_comments_cleaned.csv', index_col = 0)\n",
    "\n",
    "# Importing the dataset already with the comments processed and target created\n",
    "## I ran this before and then exported to be safe 'cause I had kernel problems\n",
    "df = pd.read_json('Datasets/comments_processed.json')  # skip straight to vars initialization"
   ]
  },
  {
   "cell_type": "code",
   "execution_count": 14,
   "metadata": {},
   "outputs": [
    {
     "data": {
      "text/html": [
       "<div>\n",
       "<style scoped>\n",
       "    .dataframe tbody tr th:only-of-type {\n",
       "        vertical-align: middle;\n",
       "    }\n",
       "\n",
       "    .dataframe tbody tr th {\n",
       "        vertical-align: top;\n",
       "    }\n",
       "\n",
       "    .dataframe thead th {\n",
       "        text-align: right;\n",
       "    }\n",
       "</style>\n",
       "<table border=\"1\" class=\"dataframe\">\n",
       "  <thead>\n",
       "    <tr style=\"text-align: right;\">\n",
       "      <th></th>\n",
       "      <th>Title</th>\n",
       "      <th>Platform</th>\n",
       "      <th>Userscore</th>\n",
       "      <th>Comment</th>\n",
       "      <th>Comments_Processed</th>\n",
       "      <th>Username</th>\n",
       "      <th>Target</th>\n",
       "      <th>Target_NPS</th>\n",
       "    </tr>\n",
       "  </thead>\n",
       "  <tbody>\n",
       "    <tr>\n",
       "      <th>0</th>\n",
       "      <td>Super Smash Bros. for Wii U</td>\n",
       "      <td>WiiU</td>\n",
       "      <td>9</td>\n",
       "      <td>This game is amazing, improves in every aspect...</td>\n",
       "      <td>[thi, game, amaz, improv, everi, aspect, previ...</td>\n",
       "      <td>Zin_49</td>\n",
       "      <td>Positive</td>\n",
       "      <td>Positive</td>\n",
       "    </tr>\n",
       "    <tr>\n",
       "      <th>1</th>\n",
       "      <td>Zero Escape: Zero Time Dilemma</td>\n",
       "      <td>3DS</td>\n",
       "      <td>8</td>\n",
       "      <td>A bunch of bootleg robotic versions of the mai...</td>\n",
       "      <td>[bunch, bootleg, robot, version, main, charact...</td>\n",
       "      <td>Techbane</td>\n",
       "      <td>Negative</td>\n",
       "      <td>Neutral</td>\n",
       "    </tr>\n",
       "    <tr>\n",
       "      <th>2</th>\n",
       "      <td>Metro: Last Light</td>\n",
       "      <td>PC</td>\n",
       "      <td>6</td>\n",
       "      <td>I liked the original this is some innovation b...</td>\n",
       "      <td>[like, origin, thi, innov, silent, main, chara...</td>\n",
       "      <td>gstiker5</td>\n",
       "      <td>Negative</td>\n",
       "      <td>Negative</td>\n",
       "    </tr>\n",
       "    <tr>\n",
       "      <th>3</th>\n",
       "      <td>PlanetSide 2</td>\n",
       "      <td>PC</td>\n",
       "      <td>5</td>\n",
       "      <td>Planetside 2  has battles of epic scale and de...</td>\n",
       "      <td>[planetsid, ha, battl, epic, scale, decent, gf...</td>\n",
       "      <td>NasseSeta</td>\n",
       "      <td>Negative</td>\n",
       "      <td>Negative</td>\n",
       "    </tr>\n",
       "    <tr>\n",
       "      <th>4</th>\n",
       "      <td>Diablo III</td>\n",
       "      <td>PC</td>\n",
       "      <td>1</td>\n",
       "      <td>Game looks good and overall i like the graphic...</td>\n",
       "      <td>[game, look, good, overal, like, graphic, game...</td>\n",
       "      <td>JamesLFranco</td>\n",
       "      <td>Negative</td>\n",
       "      <td>Negative</td>\n",
       "    </tr>\n",
       "  </tbody>\n",
       "</table>\n",
       "</div>"
      ],
      "text/plain": [
       "                            Title Platform  Userscore  \\\n",
       "0     Super Smash Bros. for Wii U     WiiU          9   \n",
       "1  Zero Escape: Zero Time Dilemma      3DS          8   \n",
       "2               Metro: Last Light       PC          6   \n",
       "3                    PlanetSide 2       PC          5   \n",
       "4                      Diablo III       PC          1   \n",
       "\n",
       "                                             Comment  \\\n",
       "0  This game is amazing, improves in every aspect...   \n",
       "1  A bunch of bootleg robotic versions of the mai...   \n",
       "2  I liked the original this is some innovation b...   \n",
       "3  Planetside 2  has battles of epic scale and de...   \n",
       "4  Game looks good and overall i like the graphic...   \n",
       "\n",
       "                                  Comments_Processed      Username    Target  \\\n",
       "0  [thi, game, amaz, improv, everi, aspect, previ...        Zin_49  Positive   \n",
       "1  [bunch, bootleg, robot, version, main, charact...      Techbane  Negative   \n",
       "2  [like, origin, thi, innov, silent, main, chara...      gstiker5  Negative   \n",
       "3  [planetsid, ha, battl, epic, scale, decent, gf...     NasseSeta  Negative   \n",
       "4  [game, look, good, overal, like, graphic, game...  JamesLFranco  Negative   \n",
       "\n",
       "  Target_NPS  \n",
       "0   Positive  \n",
       "1    Neutral  \n",
       "2   Negative  \n",
       "3   Negative  \n",
       "4   Negative  "
      ]
     },
     "execution_count": 14,
     "metadata": {},
     "output_type": "execute_result"
    }
   ],
   "source": [
    "# Since the kernel keeps dying with the whole comments dataset, I will get half of it and try with that\n",
    "df_cut = df.sample(df.shape[0]//2, random_state = 18)\n",
    "\n",
    "df_cut.reset_index(drop = True, inplace = True)\n",
    "\n",
    "# Exporting this half DF just in case\n",
    "df_cut.to_json('Datasets/comments_processed_half.json')\n",
    "\n",
    "df_cut.head()"
   ]
  },
  {
   "cell_type": "markdown",
   "metadata": {},
   "source": [
    "# Preparing the dataset"
   ]
  },
  {
   "cell_type": "markdown",
   "metadata": {},
   "source": [
    "## Creating 'Target' column"
   ]
  },
  {
   "cell_type": "markdown",
   "metadata": {},
   "source": [
    "I will be using the 'Target' column, but I decided to create the Target_NPS one as well just to see how different they would be in the total dataset."
   ]
  },
  {
   "cell_type": "code",
   "execution_count": null,
   "metadata": {},
   "outputs": [],
   "source": [
    "# Creating the 'Target' column\n",
    "## 9-10 positive\n",
    "## 8 and below negative\n",
    "df['Target'] = np.where((df['Userscore'] <= 8), 'Negative', 'Positive')\n",
    "\n",
    "# Creating the 'Target_NPS' column\n",
    "## NPS Scale - https://en.wikipedia.org/wiki/Net_Promoter\n",
    "## 9-10 = positive\n",
    "## 7-8 = neutral\n",
    "## 0-6 = negative\n",
    "df['Target_NPS'] = np.where((df['Userscore'] <= 6), 'Negative', 'Positive')\n",
    "df['Target_NPS'] = np.where(((df['Userscore'] >= 7) & (df['Userscore'] <= 8)), 'Neutral', df['Target_NPS'])\n",
    "\n",
    "# Checking the different proportion of values\n",
    "## unsure if I should balance these or not\n",
    "print(df['Target'].value_counts())\n",
    "df['Target_NPS'].value_counts()"
   ]
  },
  {
   "cell_type": "markdown",
   "metadata": {},
   "source": [
    "## Processing the comments"
   ]
  },
  {
   "cell_type": "code",
   "execution_count": null,
   "metadata": {},
   "outputs": [],
   "source": [
    "# Creating the 'Comments_Processed' column\n",
    "df['Comments_Processed'] = df['Comment'].apply(lambda x: stem_and_lemmatize(remove_stopwords(tokenize(clean_up(x)))))\n",
    "## this took 25 mins to run..."
   ]
  },
  {
   "cell_type": "code",
   "execution_count": null,
   "metadata": {},
   "outputs": [],
   "source": [
    "# Rearranging the columns order to be prettier\n",
    "cols = df.columns.tolist()\n",
    "df = df[['Title', 'Platform', 'Userscore', 'Comment', 'Comments_Processed', 'Username', 'Target', 'Target_NPS']]\n",
    "df.head()"
   ]
  },
  {
   "cell_type": "code",
   "execution_count": null,
   "metadata": {},
   "outputs": [],
   "source": [
    "# Exporting the DF now just to be safe!\n",
    "df.to_json('Datasets/comments_processed.json')"
   ]
  },
  {
   "cell_type": "code",
   "execution_count": 15,
   "metadata": {},
   "outputs": [
    {
     "data": {
      "text/html": [
       "<div>\n",
       "<style scoped>\n",
       "    .dataframe tbody tr th:only-of-type {\n",
       "        vertical-align: middle;\n",
       "    }\n",
       "\n",
       "    .dataframe tbody tr th {\n",
       "        vertical-align: top;\n",
       "    }\n",
       "\n",
       "    .dataframe thead th {\n",
       "        text-align: right;\n",
       "    }\n",
       "</style>\n",
       "<table border=\"1\" class=\"dataframe\">\n",
       "  <thead>\n",
       "    <tr style=\"text-align: right;\">\n",
       "      <th></th>\n",
       "      <th>Title</th>\n",
       "      <th>Platform</th>\n",
       "      <th>Userscore</th>\n",
       "      <th>Comment</th>\n",
       "      <th>Comments_Processed</th>\n",
       "      <th>Username</th>\n",
       "      <th>Target</th>\n",
       "      <th>Target_NPS</th>\n",
       "    </tr>\n",
       "  </thead>\n",
       "  <tbody>\n",
       "    <tr>\n",
       "      <th>0</th>\n",
       "      <td>Super Smash Bros. for Wii U</td>\n",
       "      <td>WiiU</td>\n",
       "      <td>9</td>\n",
       "      <td>This game is amazing, improves in every aspect...</td>\n",
       "      <td>[thi, game, amaz, improv, everi, aspect, previ...</td>\n",
       "      <td>Zin_49</td>\n",
       "      <td>Positive</td>\n",
       "      <td>Positive</td>\n",
       "    </tr>\n",
       "    <tr>\n",
       "      <th>1</th>\n",
       "      <td>Zero Escape: Zero Time Dilemma</td>\n",
       "      <td>3DS</td>\n",
       "      <td>8</td>\n",
       "      <td>A bunch of bootleg robotic versions of the mai...</td>\n",
       "      <td>[bunch, bootleg, robot, version, main, charact...</td>\n",
       "      <td>Techbane</td>\n",
       "      <td>Negative</td>\n",
       "      <td>Neutral</td>\n",
       "    </tr>\n",
       "    <tr>\n",
       "      <th>2</th>\n",
       "      <td>Metro: Last Light</td>\n",
       "      <td>PC</td>\n",
       "      <td>6</td>\n",
       "      <td>I liked the original this is some innovation b...</td>\n",
       "      <td>[like, origin, thi, innov, silent, main, chara...</td>\n",
       "      <td>gstiker5</td>\n",
       "      <td>Negative</td>\n",
       "      <td>Negative</td>\n",
       "    </tr>\n",
       "    <tr>\n",
       "      <th>3</th>\n",
       "      <td>PlanetSide 2</td>\n",
       "      <td>PC</td>\n",
       "      <td>5</td>\n",
       "      <td>Planetside 2  has battles of epic scale and de...</td>\n",
       "      <td>[planetsid, ha, battl, epic, scale, decent, gf...</td>\n",
       "      <td>NasseSeta</td>\n",
       "      <td>Negative</td>\n",
       "      <td>Negative</td>\n",
       "    </tr>\n",
       "    <tr>\n",
       "      <th>4</th>\n",
       "      <td>Diablo III</td>\n",
       "      <td>PC</td>\n",
       "      <td>1</td>\n",
       "      <td>Game looks good and overall i like the graphic...</td>\n",
       "      <td>[game, look, good, overal, like, graphic, game...</td>\n",
       "      <td>JamesLFranco</td>\n",
       "      <td>Negative</td>\n",
       "      <td>Negative</td>\n",
       "    </tr>\n",
       "  </tbody>\n",
       "</table>\n",
       "</div>"
      ],
      "text/plain": [
       "                            Title Platform  Userscore  \\\n",
       "0     Super Smash Bros. for Wii U     WiiU          9   \n",
       "1  Zero Escape: Zero Time Dilemma      3DS          8   \n",
       "2               Metro: Last Light       PC          6   \n",
       "3                    PlanetSide 2       PC          5   \n",
       "4                      Diablo III       PC          1   \n",
       "\n",
       "                                             Comment  \\\n",
       "0  This game is amazing, improves in every aspect...   \n",
       "1  A bunch of bootleg robotic versions of the mai...   \n",
       "2  I liked the original this is some innovation b...   \n",
       "3  Planetside 2  has battles of epic scale and de...   \n",
       "4  Game looks good and overall i like the graphic...   \n",
       "\n",
       "                                  Comments_Processed      Username    Target  \\\n",
       "0  [thi, game, amaz, improv, everi, aspect, previ...        Zin_49  Positive   \n",
       "1  [bunch, bootleg, robot, version, main, charact...      Techbane  Negative   \n",
       "2  [like, origin, thi, innov, silent, main, chara...      gstiker5  Negative   \n",
       "3  [planetsid, ha, battl, epic, scale, decent, gf...     NasseSeta  Negative   \n",
       "4  [game, look, good, overal, like, graphic, game...  JamesLFranco  Negative   \n",
       "\n",
       "  Target_NPS  \n",
       "0   Positive  \n",
       "1    Neutral  \n",
       "2   Negative  \n",
       "3   Negative  \n",
       "4   Negative  "
      ]
     },
     "execution_count": 15,
     "metadata": {},
     "output_type": "execute_result"
    }
   ],
   "source": [
    "df_cut.head()"
   ]
  },
  {
   "cell_type": "markdown",
   "metadata": {},
   "source": [
    "## Initializing the basic variables for the model"
   ]
  },
  {
   "cell_type": "code",
   "execution_count": 16,
   "metadata": {},
   "outputs": [],
   "source": [
    "# Creating the bag of words\n",
    "bow = [word for lst in df_cut['Comments_Processed'] for word in lst]\n",
    "fdist = FreqDist(bow)\n",
    "\n",
    "# Getting just the 10k most common words\n",
    "most_common = fdist.most_common(10000)  # wonder if I should change this value around or not (trying w/ 10k this time)"
   ]
  },
  {
   "cell_type": "code",
   "execution_count": 18,
   "metadata": {},
   "outputs": [],
   "source": [
    "# TRYING TO BREAK IT DOWN IN SMALLER PIECES SO THE KERNEL DOESN'T DIE\n",
    "## Nope, kernel still died with the whole DF\n",
    "## WORKED WITH HALF THE DATASET BUT KERNEL BECAME UNRESPONSIVE AFTERWARDS...\n",
    "n_batches = 20\n",
    "batch_size = df_cut.shape[0]//n_batches\n",
    "batches = []\n",
    "\n",
    "# Couldn't make the range start from 0, so it starts from 1. At least it's just 1 row that I lose in 282k...\n",
    "batches = [make_matrix(df_cut.loc[(n+1)*batch_size - batch_size +1:n*batch_size+batch_size, 'Comment'], \n",
    "                       df_cut.loc[(n+1)*batch_size - batch_size +1:n*batch_size+batch_size, 'Target'], most_common) \n",
    "          for n in range(n_batches)]\n",
    "\n",
    "# Flattening the batches\n",
    "batches_flat = [item for lst in batches for item in lst]  # this is how it needs to be in the end"
   ]
  },
  {
   "cell_type": "code",
   "execution_count": null,
   "metadata": {},
   "outputs": [],
   "source": [
    "# EXPORTING/PICKLING THIS TOO! TAKING NO CHANCES LOL.\n",
    "## seems to have saved an empty or broken file...\n",
    "save_batches_flat = open('batches_flat_df_cut.pickle', 'wb')\n",
    "pickle.dump(batches_flat, save_batches_flat)\n",
    "save_batches_flat.close()"
   ]
  },
  {
   "cell_type": "code",
   "execution_count": null,
   "metadata": {},
   "outputs": [],
   "source": [
    "len(batches_flat)"
   ]
  },
  {
   "cell_type": "code",
   "execution_count": null,
   "metadata": {},
   "outputs": [],
   "source": [
    "'''\n",
    "Initial for loop I had before turning it into a list comprehension\n",
    "for n in range(n_batches):\n",
    "    batches.append(make_matrix(df.loc[(n+1)*batch_size - batch_size +1:n*batch_size+batch_size, 'Comment'], \n",
    "                               df.loc[(n+1)*batch_size - batch_size +1:n*batch_size+batch_size, 'Target'], most_common))\n",
    "'''"
   ]
  },
  {
   "cell_type": "code",
   "execution_count": null,
   "metadata": {},
   "outputs": [],
   "source": [
    "'''FOR THE TARGET COLUMN'''\n",
    "# Building the features and making the matrix\n",
    "#matrix = make_matrix(df['Comment'], df['Target'], most_common)  # this is something that takes forever...\n",
    "\n",
    "# Defining the size to use for the training and testing\n",
    "size = int(len(batches_flat) * 0.20)\n",
    "\n",
    "# Training with 80% of the data and testing against the remaining 20%\n",
    "training_set = batches_flat[size:]\n",
    "testing_set = batches_flat[:size]"
   ]
  },
  {
   "cell_type": "markdown",
   "metadata": {},
   "source": [
    "## Logistic Regression Model Application"
   ]
  },
  {
   "cell_type": "code",
   "execution_count": null,
   "metadata": {},
   "outputs": [],
   "source": [
    "# TESTING WITH TARGET\n",
    "LogisticRegression_classifier = SklearnClassifier(LogisticRegression(solver = 'saga', n_jobs = -1))\n",
    "LogisticRegression_classifier.train(training_set)\n",
    "\n",
    "\n",
    "print('Logistic Regression accuracy (Target):', \n",
    "      str(round(nltk.classify.accuracy(LogisticRegression_classifier, testing_set) * 100, 2)) + '%')"
   ]
  },
  {
   "cell_type": "markdown",
   "metadata": {},
   "source": [
    "## Confusion Matrix"
   ]
  },
  {
   "cell_type": "code",
   "execution_count": null,
   "metadata": {},
   "outputs": [],
   "source": [
    "# Predictions of the testing_set with the Target column\n",
    "pred_list_LR = [LogisticRegression_classifier.classify(testing_set[i][0]) for i in range(len(testing_set))]\n",
    "print(pred_list_LR.count('Positive'))  \n",
    "print(pred_list_LR.count('Negative'))  "
   ]
  },
  {
   "cell_type": "code",
   "execution_count": null,
   "metadata": {},
   "outputs": [],
   "source": [
    "# Unpacking the references (Positive or Negative) of the testing set to use for the confusion matrix\n",
    "ref = [testing_set[i][1] for i in range(len(testing_set))]  # pos: xx | neg: xx\n",
    "\n",
    "# List of predictions ran above\n",
    "tagged = pred_list_LR\n",
    "\n",
    "# The actual confusion matrix\n",
    "cm = ConfusionMatrix(ref, tagged)\n",
    "\n",
    "print(cm)\n",
    "cm\n",
    "\n",
    "labels = set('Positive Negative'.split())\n",
    "\n",
    "true_positives = Counter()\n",
    "false_negatives = Counter()\n",
    "false_positives = Counter()\n",
    "\n",
    "for i in labels:\n",
    "    for j in labels:\n",
    "        if i == j:\n",
    "            true_positives[i] += cm[i, j]\n",
    "        else:\n",
    "            false_negatives[i] += cm[i, j]\n",
    "            false_positives[j] += cm[i, j]\n",
    "\n",
    "# This seems to be the best model as the accuracy already predicted\n",
    "print('TP + TN:', sum(true_positives.values()), true_positives)\n",
    "print('FP + FN:', sum(false_positives.values()), false_positives)"
   ]
  },
  {
   "cell_type": "markdown",
   "metadata": {},
   "source": [
    "## Function to Predict a Review's Label"
   ]
  },
  {
   "cell_type": "code",
   "execution_count": null,
   "metadata": {},
   "outputs": [],
   "source": [
    "def predictor(text):\n",
    "    prediction = find_features(text, most_common)\n",
    "    return print('Prediction:', LogisticRegression_classifier.classify(prediction))\n",
    "\n",
    "predictor('This game is amazing!')\n",
    "predictor('This game is terrible.')"
   ]
  },
  {
   "cell_type": "markdown",
   "metadata": {},
   "source": [
    "## Exporting Files for Future Use"
   ]
  },
  {
   "cell_type": "code",
   "execution_count": null,
   "metadata": {},
   "outputs": [],
   "source": [
    "# Saving the 10k most_common words of this whole DF\n",
    "save_most_common = open('10k_most_common_final.pickle', 'wb')\n",
    "pickle.dump(most_common, save_most_common)\n",
    "save_most_common.close()"
   ]
  },
  {
   "cell_type": "code",
   "execution_count": null,
   "metadata": {},
   "outputs": [],
   "source": [
    "# Saving the trained LR algorithm\n",
    "save_classifier = open('Logistic_Regression_final.pickle', 'wb')\n",
    "pickle.dump(LogisticRegression_classifier, save_classifier)\n",
    "save_classifier.close()"
   ]
  }
 ],
 "metadata": {
  "kernelspec": {
   "display_name": "Python 3",
   "language": "python",
   "name": "python3"
  },
  "language_info": {
   "codemirror_mode": {
    "name": "ipython",
    "version": 3
   },
   "file_extension": ".py",
   "mimetype": "text/x-python",
   "name": "python",
   "nbconvert_exporter": "python",
   "pygments_lexer": "ipython3",
   "version": "3.7.5"
  }
 },
 "nbformat": 4,
 "nbformat_minor": 4
}
